{
 "cells": [
  {
   "cell_type": "code",
   "execution_count": null,
   "id": "f4fabc9c-2290-4f9e-a429-4c12e7dcd19d",
   "metadata": {
    "tags": []
   },
   "outputs": [],
   "source": [
    "import ipyvolume as ipv"
   ]
  },
  {
   "cell_type": "code",
   "execution_count": null,
   "id": "116bb857-8399-4b70-830c-d2970e57371b",
   "metadata": {
    "tags": []
   },
   "outputs": [],
   "source": [
    "import PIL.Image\n",
    "import numpy as np"
   ]
  },
  {
   "cell_type": "code",
   "execution_count": null,
   "id": "287b0769-13e2-4198-a65a-ea80255f66ec",
   "metadata": {
    "tags": []
   },
   "outputs": [],
   "source": [
    "SKY_DIST = 7000  # distance to celestial sphere"
   ]
  },
  {
   "cell_type": "code",
   "execution_count": null,
   "id": "8d76c34c-a98d-4c31-bf15-841a54f5afb5",
   "metadata": {
    "tags": []
   },
   "outputs": [],
   "source": [
    "def plot_earth_wire(ipv):\n",
    "    nx = 40\n",
    "    ny = 15\n",
    "    lon = np.linspace(0, 2*np.pi, nx)\n",
    "    lat = np.linspace(-np.pi/2, np.pi/2, ny)\n",
    "    lon, lat = np.meshgrid(lon, lat)\n",
    "    x = np.cos(lon)*np.cos(lat)\n",
    "    y = np.sin(lon)*np.cos(lat)\n",
    "    z = np.sin(lat)    \n",
    "    ipv.plot_wireframe(\n",
    "        x, y, z,\n",
    "    )\n",
    "\n",
    "def plot_earth(ipv):\n",
    "    nx = 500\n",
    "    ny = 250\n",
    "    lon = np.linspace(0, 2*np.pi, nx)\n",
    "    lat = np.linspace(-np.pi/2, np.pi/2, ny)\n",
    "    lon, lat = np.meshgrid(lon, lat)\n",
    "    x = np.cos(lon)*np.cos(lat)\n",
    "    y = np.sin(lon)*np.cos(lat)\n",
    "    z = np.sin(lat)    \n",
    "    u = lon/(2*np.pi)  # map to 0->1\n",
    "    u = np.roll(u, nx//2)  # +x = greenwich\n",
    "    v = lat/np.pi-0.5\n",
    "    img = PIL.Image.open('earth.jpg')\n",
    "    ipv.plot_mesh(\n",
    "        x, y, z,\n",
    "        u=u, v=v,\n",
    "        texture=img,\n",
    "        wireframe=False\n",
    "    )"
   ]
  },
  {
   "cell_type": "code",
   "execution_count": null,
   "id": "2602504d-d703-4f57-aaf7-cc716f608f42",
   "metadata": {
    "tags": []
   },
   "outputs": [],
   "source": [
    "def rubin_position():\n",
    "    \"\"\"Compute x/y/z coordinates of Rubin observatory\n",
    "    in Earth-Centered Earth-Fixed frame\n",
    "    \"\"\"\n",
    "    rubin_lat = np.deg2rad(-(30+14/60+40.7/3600))\n",
    "    rubin_lon = np.deg2rad(-(70+44/60+57.9/3600))\n",
    "\n",
    "    # Position of Rubin Observatory\n",
    "    x = np.cos(rubin_lon)*np.cos(rubin_lat)\n",
    "    y = np.sin(rubin_lon)*np.cos(rubin_lat)\n",
    "    z = np.sin(rubin_lat)    \n",
    "    return np.array([x, y, z])"
   ]
  },
  {
   "cell_type": "code",
   "execution_count": null,
   "id": "5b4528f7-b9cf-40c7-ba52-08b32a67c8be",
   "metadata": {
    "tags": []
   },
   "outputs": [],
   "source": [
    "def rubin_NEZ():\n",
    "    \"\"\"Compute Rubin observatory North-East-Zenith unit vectors in \n",
    "    Earth-Centered Earth-Fixed frame\n",
    "    \"\"\"\n",
    "    rubin_lat = np.deg2rad(-(30+14/60+40.7/3600))\n",
    "    rubin_lon = np.deg2rad(-(70+44/60+57.9/3600))\n",
    "\n",
    "    # North\n",
    "    # (= derivative of unit vectors wrt latitude)\n",
    "    north = np.array([\n",
    "        -np.cos(rubin_lon)*np.sin(rubin_lat),\n",
    "        -np.sin(rubin_lon)*np.sin(rubin_lat),\n",
    "        np.cos(rubin_lat)\n",
    "    ])\n",
    "    \n",
    "    # Zenith\n",
    "    # (parallel to Rubin position)\n",
    "    zenith = rubin_position()\n",
    "\n",
    "    # East = North x Up\n",
    "    east = np.cross(north, zenith)\n",
    "\n",
    "    # Note, unit vectors along _rows_\n",
    "    return np.array([north, east, zenith])"
   ]
  },
  {
   "cell_type": "code",
   "execution_count": null,
   "id": "d72a60bd-f6df-43ac-8cab-9697cdaea169",
   "metadata": {
    "tags": []
   },
   "outputs": [],
   "source": [
    "def plot_rubin_position(ipv):\n",
    "    x, y, z = rubin_position()\n",
    "    ipv.scatter(\n",
    "        np.array([x]),\n",
    "        np.array([y]),\n",
    "        np.array([z]),\n",
    "        color='white', \n",
    "        size=1\n",
    "    )    "
   ]
  },
  {
   "cell_type": "code",
   "execution_count": null,
   "id": "3b0cf1c8-8760-4f4d-9eff-318f535f7283",
   "metadata": {
    "tags": []
   },
   "outputs": [],
   "source": [
    "def plot_rubin_NEZ(ipv):\n",
    "    \"\"\"Plot North, East, and Zenith triad.\n",
    "    \"\"\"\n",
    "    \n",
    "    north, east, zenith = rubin_NEZ()\n",
    "    x, y, z = rubin_position()\n",
    "    \n",
    "    length = 3\n",
    "    ipv.plot(\n",
    "        np.array([x, x+north[0]*length]),\n",
    "        np.array([y, y+north[1]*length]),\n",
    "        np.array([z, z+north[2]*length]),\n",
    "        color='blue'\n",
    "    )\n",
    "    ipv.plot(\n",
    "        np.array([x, x+east[0]*length]),\n",
    "        np.array([y, y+east[1]*length]),\n",
    "        np.array([z, z+east[2]*length]),\n",
    "        color='red'\n",
    "    )\n",
    "    ipv.plot(\n",
    "        np.array([x, x+zenith[0]*length]),\n",
    "        np.array([y, y+zenith[1]*length]),\n",
    "        np.array([z, z+zenith[2]*length]),\n",
    "        color='green'\n",
    "    )    "
   ]
  },
  {
   "cell_type": "code",
   "execution_count": null,
   "id": "132f2efb-1d62-4edb-aa9c-f0f1ea25ab0e",
   "metadata": {
    "tags": []
   },
   "outputs": [],
   "source": [
    "def get_boresight(alt, az):\n",
    "    # az = 0 means North, 90 means East\n",
    "    # alt = 0 means horizon, 90 means zenith\n",
    "    north, east, zenith = rubin_NEZ()\n",
    "   \n",
    "    az_vec = north * np.cos(az) + east * np.sin(az) # azimuth is angle \"East of North\"\n",
    "    boresight = zenith * np.sin(alt) + az_vec * np.cos(alt)  # altitude is angle up from horizon\n",
    "\n",
    "    return boresight"
   ]
  },
  {
   "cell_type": "code",
   "execution_count": null,
   "id": "440d60cc-8235-45d4-ba61-a249f0a48111",
   "metadata": {
    "tags": []
   },
   "outputs": [],
   "source": [
    "def plot_boresight(ipv, alt, az):\n",
    "    x, y, z = rubin_position()\n",
    "    boresight = get_boresight(alt, az)\n",
    "    length = SKY_DIST\n",
    "    ipv.plot(\n",
    "        np.array([x, x+boresight[0]*length]),\n",
    "        np.array([y, y+boresight[1]*length]),\n",
    "        np.array([z, z+boresight[2]*length]),\n",
    "        color='magenta'\n",
    "    )    "
   ]
  },
  {
   "cell_type": "code",
   "execution_count": null,
   "id": "1055a9ef-11aa-46ea-86a1-0c65d6458bb6",
   "metadata": {
    "tags": []
   },
   "outputs": [],
   "source": [
    "def plot_celestial_sphere(ipv):\n",
    "    rx, ry, rz = rubin_position()\n",
    "    dist = SKY_DIST\n",
    "    th = np.linspace(0, 2*np.pi, 100)\n",
    "    for alt in np.arange(-90, 91, 10):\n",
    "        x = np.cos(th)*np.cos(np.deg2rad(alt))*dist\n",
    "        y = np.sin(th)*np.cos(np.deg2rad(alt))*dist\n",
    "        z = np.full_like(th, np.sin(np.deg2rad(alt)))*dist\n",
    "        x += rx  # Center around Rubin observatory\n",
    "        y += ry\n",
    "        z += rz\n",
    "        ipv.plot(x, y, z, color='white')\n",
    "    for az in np.linspace(0, 2*np.pi, 24, endpoint=False):\n",
    "        x = np.cos(az)*np.cos(th)*dist\n",
    "        y = np.sin(az)*np.cos(th)*dist\n",
    "        z = np.sin(th)*dist\n",
    "        x += rx  # Center around Rubin observatory\n",
    "        y += ry\n",
    "        z += rz\n",
    "        ipv.plot(x, y, z, color='white')"
   ]
  },
  {
   "cell_type": "code",
   "execution_count": null,
   "id": "0d4e0dc8-ff8e-483c-b617-08e02217d9ba",
   "metadata": {
    "tags": []
   },
   "outputs": [],
   "source": [
    "def sky_NEB(alt, az):\n",
    "    \"\"\"Compute sky North-East-Boresight unit vectors.\n",
    "    \"\"\"\n",
    "    boresight = get_boresight(alt, az)\n",
    "\n",
    "    ncp = np.array([0,0,1])\n",
    "    east = np.cross(ncp, boresight)   # unnormalized\n",
    "    east /= np.sqrt(np.dot(east, east))  # normalized\n",
    "    north = np.cross(boresight, east)\n",
    "\n",
    "    return np.array([\n",
    "        north,\n",
    "        east,\n",
    "        boresight\n",
    "    ])"
   ]
  },
  {
   "cell_type": "code",
   "execution_count": null,
   "id": "143003b4-7ca6-4091-a3b6-bb94dfd203b1",
   "metadata": {
    "tags": []
   },
   "outputs": [],
   "source": [
    "def plot_sky_NE(ipv, alt, az):\n",
    "    x, y, z = rubin_position()\n",
    "    north, east, boresight = sky_NEB(alt, az)\n",
    "    x += boresight[0]*SKY_DIST\n",
    "    y += boresight[1]*SKY_DIST\n",
    "    z += boresight[2]*SKY_DIST\n",
    "    \n",
    "    length = 0.4*SKY_DIST\n",
    "    ipv.plot(\n",
    "        np.array([x, x+north[0]*length]),\n",
    "        np.array([y, y+north[1]*length]),\n",
    "        np.array([z, z+north[2]*length]),\n",
    "        color='blue'\n",
    "    )\n",
    "    ipv.plot(\n",
    "        np.array([x, x+east[0]*length]),\n",
    "        np.array([y, y+east[1]*length]),\n",
    "        np.array([z, z+east[2]*length]),\n",
    "        color='red'\n",
    "    )"
   ]
  },
  {
   "cell_type": "code",
   "execution_count": null,
   "id": "b6942401-3f15-4eb7-abae-77d3eb584992",
   "metadata": {
    "tags": []
   },
   "outputs": [],
   "source": [
    "def ten(s):\n",
    "    ss = s.split()\n",
    "    h = ss[0]\n",
    "    m = ss[1]\n",
    "    s = ss[2]\n",
    "    return float(h) + float(m)/60 + float(s)/3600\n",
    "\n",
    "def plot_constellations(ipv):\n",
    "    # I think this is for Local Sidereal Time = 0h\n",
    "    # Would need to rotate for any other LST\n",
    "    if not hasattr(plot_constellations, 'data'):\n",
    "        from astroquery.simbad import Simbad\n",
    "        Simbad.add_votable_fields('typed_id')\n",
    "        HIPset = set()\n",
    "        with open(\"constellationship.fab\") as f:\n",
    "            lines = f.readlines()\n",
    "        for line in lines:\n",
    "            HIPset.update([int(s) for s in line.split()[2:]])\n",
    "        HIPlist = list(HIPset)\n",
    "        data = Simbad.query_objects(\n",
    "            [f\"HIP {s}\" for s in HIPlist]\n",
    "        )\n",
    "        data['HIPID'] = HIPlist\n",
    "        plot_constellations.data = data\n",
    "        plot_constellations.lines = lines\n",
    "    data = plot_constellations.data\n",
    "    lines = plot_constellations.lines\n",
    "    for line in lines:\n",
    "        endpoints = iter(line.split()[2:])        \n",
    "        for first in endpoints:\n",
    "            second = next(endpoints)\n",
    "            firstrow = data[np.nonzero(data['HIPID'] == int(first))]\n",
    "            secondrow = data[np.nonzero(data['HIPID'] == int(second))]\n",
    "            ra0 = np.deg2rad(15*ten(firstrow['RA'][0]))\n",
    "            dec0 = np.deg2rad(ten(firstrow['DEC'][0]))\n",
    "            ra1 = np.deg2rad(15*ten(secondrow['RA'][0]))\n",
    "            dec1 = np.deg2rad(ten(secondrow['DEC'][0]))\n",
    "            x0 = np.cos(ra0)*np.cos(dec0)\n",
    "            y0 = np.sin(ra0)*np.cos(dec0)\n",
    "            z0 = np.sin(dec0)\n",
    "            x1 = np.cos(ra1)*np.cos(dec1)\n",
    "            y1 = np.sin(ra1)*np.cos(dec1)\n",
    "            z1 = np.sin(dec1)\n",
    "            \n",
    "            x = np.array([x0, x1])*SKY_DIST\n",
    "            y = np.array([y0, y1])*SKY_DIST\n",
    "            z = np.array([z0, z1])*SKY_DIST\n",
    "            ipv.plot(x, y, z, color='white')"
   ]
  },
  {
   "cell_type": "code",
   "execution_count": null,
   "id": "1c6b9b03-5866-493e-bad2-4ae4d11924f5",
   "metadata": {
    "tags": []
   },
   "outputs": [],
   "source": [
    "import matplotlib\n",
    "matplotlib.__version__"
   ]
  },
  {
   "cell_type": "code",
   "execution_count": null,
   "id": "0e7c6560-64cf-479e-b085-f3c92fcd30bf",
   "metadata": {
    "tags": []
   },
   "outputs": [],
   "source": [
    "# Input your desired boresight altitude and azimuth\n",
    "\n",
    "# alt = np.deg2rad(50)\n",
    "# az = 0\n",
    "\n",
    "# Away from the pole, North and East on the surface\n",
    "# seem to usually be closely aligned with North and East on the sky.\n",
    "# alt = np.deg2rad(60)\n",
    "# az = np.deg2rad(90)  # East\n",
    "\n",
    "\n",
    "# # Near the South Pole North and East on Earth's surface can be very different\n",
    "# # than North and East on the sky\n",
    "alt = np.deg2rad(30)\n",
    "az = np.deg2rad(170)  # Southish\n",
    "\n",
    "# Get a 3d visualization including\n",
    "# Earth/Sky/Equatorial grid/Constellations\n",
    "# Unit vectors for Earth surface North (blue)  East (red)  Zenith (green)\n",
    "# Boresight of observation (magenta)\n",
    "# Unit vectors for Sky North (blue)  East (red) \n",
    "ipv.figure(width=500, height=400)\n",
    "# plot_earth_wire(ipv)\n",
    "plot_earth(ipv)\n",
    "plot_rubin_position(ipv)\n",
    "plot_rubin_NEZ(ipv)\n",
    "plot_boresight(ipv, alt, az)\n",
    "plot_celestial_sphere(ipv)\n",
    "plot_sky_NE(ipv, alt, az)\n",
    "plot_constellations(ipv)\n",
    "\n",
    "ipv.xyzlim(-2, 2)\n",
    "ipv.style.box_off()\n",
    "ipv.style.set_style_dark()\n",
    "ipv.show()"
   ]
  },
  {
   "cell_type": "code",
   "execution_count": null,
   "id": "bf8f6c5b-0ba5-4eab-b9c8-04bdbe0da96e",
   "metadata": {},
   "outputs": [],
   "source": []
  }
 ],
 "metadata": {
  "kernelspec": {
   "display_name": "Python 3 (ipykernel)",
   "language": "python",
   "name": "python3"
  },
  "language_info": {
   "codemirror_mode": {
    "name": "ipython",
    "version": 3
   },
   "file_extension": ".py",
   "mimetype": "text/x-python",
   "name": "python",
   "nbconvert_exporter": "python",
   "pygments_lexer": "ipython3",
   "version": "3.10.5"
  }
 },
 "nbformat": 4,
 "nbformat_minor": 5
}
